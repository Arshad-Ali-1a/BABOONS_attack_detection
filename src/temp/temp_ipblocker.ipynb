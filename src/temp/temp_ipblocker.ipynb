{
 "cells": [
  {
   "cell_type": "code",
   "execution_count": 1,
   "metadata": {},
   "outputs": [],
   "source": [
    "import subprocess"
   ]
  },
  {
   "cell_type": "code",
   "execution_count": 2,
   "metadata": {},
   "outputs": [],
   "source": [
    "def block_ip(ip):\n",
    "    # PowerShell command to check if the firewall rule exists\n",
    "    check_command = f'Get-NetFirewallRule -DisplayName \"Block Remote {ip}\"'\n",
    "\n",
    "    # Execute the check command to see if the rule already exists\n",
    "    check_process = subprocess.Popen(\n",
    "        ['powershell', '-Command', check_command], stdout=subprocess.PIPE, stderr=subprocess.PIPE)\n",
    "    check_stdout, check_stderr = check_process.communicate()\n",
    "\n",
    "    if check_process.returncode == 0 and check_stdout.strip():\n",
    "        # The firewall rule already exists\n",
    "        print(f'Firewall rule for ip {ip} already exists. No action taken.')\n",
    "    else:\n",
    "        # The firewall rule does not exist, proceed to add it\n",
    "        add_command = f'New-NetFirewallRule -RemoteAddress {ip} -DisplayName \"Block Remote {ip}\" -Direction inbound -Action Block'\n",
    "        add_process = subprocess.Popen(\n",
    "            ['powershell', '-Command', add_command], stdout=subprocess.PIPE, stderr=subprocess.PIPE)\n",
    "        add_stdout, add_stderr = add_process.communicate()\n",
    "\n",
    "        if add_process.returncode == 0:\n",
    "            print(f'CONSOLE_LOG ip {ip} blocked successfully on Windows.')\n",
    "    \n",
    "        else:\n",
    "            print('Error occurred while executing the command:')\n",
    "            print(add_stderr.decode().strip())"
   ]
  },
  {
   "cell_type": "code",
   "execution_count": 3,
   "metadata": {},
   "outputs": [
    {
     "name": "stdout",
     "output_type": "stream",
     "text": [
      "Error occurred while executing the command:\n",
      "New-NetFirewallRule : Access is denied. \n",
      "At line:1 char:1\n",
      "+ New-NetFirewallRule -RemoteAddress 100.100.100.100 -DisplayName \"Bloc ...\n",
      "+ ~~~~~~~~~~~~~~~~~~~~~~~~~~~~~~~~~~~~~~~~~~~~~~~~~~~~~~~~~~~~~~~~~~~~~\n",
      "    + CategoryInfo          : PermissionDenied: (MSFT_NetFirewallRule:root/standardcimv2/MSFT_NetFirewallRule) [New-Ne \n",
      "   tFirewallRule], CimException\n",
      "    + FullyQualifiedErrorId : Windows System Error 5,New-NetFirewallRule\n"
     ]
    }
   ],
   "source": [
    "block_ip('100.100.100.100')"
   ]
  }
 ],
 "metadata": {
  "kernelspec": {
   "display_name": "Python 3",
   "language": "python",
   "name": "python3"
  },
  "language_info": {
   "codemirror_mode": {
    "name": "ipython",
    "version": 3
   },
   "file_extension": ".py",
   "mimetype": "text/x-python",
   "name": "python",
   "nbconvert_exporter": "python",
   "pygments_lexer": "ipython3",
   "version": "3.9.5"
  }
 },
 "nbformat": 4,
 "nbformat_minor": 2
}
